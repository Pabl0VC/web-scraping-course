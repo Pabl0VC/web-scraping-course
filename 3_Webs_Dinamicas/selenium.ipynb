{
 "cells": [
  {
   "cell_type": "markdown",
   "metadata": {},
   "source": [
    "# Librerias"
   ]
  },
  {
   "cell_type": "code",
   "execution_count": 17,
   "metadata": {},
   "outputs": [],
   "source": [
    "# Importaciones de bibliotecas estándar\n",
    "import os  # Proporciona funciones para interactuar con el sistema operativo, como manejar rutas y archivos.\n",
    "import logging  # Permite registrar mensajes para depuración y seguimiento del flujo del programa en tiempo real.\n",
    "import random  # Proporciona funciones para generar números aleatorios.\n",
    "from time import sleep  # Permite pausar la ejecución del programa durante un tiempo específico.\n",
    "\n",
    "# Importaciones de la biblioteca Selenium\n",
    "from selenium import webdriver  # Importa el módulo principal de Selenium para controlar navegadores.\n",
    "from selenium.webdriver.chrome.options import Options  # Permite configurar opciones para el navegador Chrome.\n",
    "from selenium.webdriver.common.by import By  # Proporciona métodos para localizar elementos en el DOM.\n",
    "from selenium.webdriver.common.action_chains import ActionChains  # Permite realizar acciones complejas como movimientos del mouse.\n",
    "from selenium.webdriver.support.ui import WebDriverWait  # Proporciona una espera explícita para elementos del DOM.\n",
    "from selenium.webdriver.support import expected_conditions as EC  # Contiene condiciones comunes para esperar elementos.\n",
    "from selenium.common.exceptions import TimeoutException, StaleElementReferenceException  # Excepciones comunes para manejar errores en Selenium.\n",
    "\n",
    "# Importaciones para la interfaz gráfica\n",
    "import tkinter as tk  # Importa Tkinter para crear interfaces gráficas de usuario (GUIs).\n",
    "from tkinter import messagebox  # Proporciona cuadros de mensaje para mostrar alertas al usuario.\n",
    "\n",
    "# Importaciones para manejar formatos de datos\n",
    "import json  # Permite trabajar con datos en formato JSON, facilitando la lectura y escritura.\n",
    "import csv  # Proporciona funciones para leer y escribir archivos en formato CSV.\n",
    "\n",
    "\n",
    "# Configuración del logging\n",
    "logging.basicConfig(level=logging.INFO, format='%(asctime)s - %(levelname)s - %(message)s')"
   ]
  },
  {
   "cell_type": "code",
   "execution_count": 18,
   "metadata": {},
   "outputs": [
    {
     "ename": "SessionNotCreatedException",
     "evalue": "Message: session not created: Chrome failed to start: exited normally.\n  (session not created: DevToolsActivePort file doesn't exist)\n  (The process started from chrome location /Applications/Google Chrome.app/Contents/MacOS/Google Chrome is no longer running, so ChromeDriver is assuming that Chrome has crashed.)\nStacktrace:\n0   chromedriver                        0x00000001033e3648 cxxbridge1$str$ptr + 3645404\n1   chromedriver                        0x00000001033dbea8 cxxbridge1$str$ptr + 3614780\n2   chromedriver                        0x0000000102e48104 cxxbridge1$string$len + 88416\n3   chromedriver                        0x0000000102e76b44 cxxbridge1$string$len + 279456\n4   chromedriver                        0x0000000102e735c0 cxxbridge1$string$len + 265756\n5   chromedriver                        0x0000000102eb39f0 cxxbridge1$string$len + 528972\n6   chromedriver                        0x0000000102eb3334 cxxbridge1$string$len + 527248\n7   chromedriver                        0x0000000102e7ef54 cxxbridge1$string$len + 313264\n8   chromedriver                        0x0000000102e7fba4 cxxbridge1$string$len + 316416\n9   chromedriver                        0x00000001033ae1e8 cxxbridge1$str$ptr + 3427196\n10  chromedriver                        0x00000001033b152c cxxbridge1$str$ptr + 3440320\n11  chromedriver                        0x000000010339560c cxxbridge1$str$ptr + 3325856\n12  chromedriver                        0x00000001033b1df0 cxxbridge1$str$ptr + 3442564\n13  chromedriver                        0x0000000103386890 cxxbridge1$str$ptr + 3265060\n14  chromedriver                        0x00000001033cc898 cxxbridge1$str$ptr + 3551788\n15  chromedriver                        0x00000001033cca14 cxxbridge1$str$ptr + 3552168\n16  chromedriver                        0x00000001033dbb40 cxxbridge1$str$ptr + 3613908\n17  libsystem_pthread.dylib             0x0000000180fab2e4 _pthread_start + 136\n18  libsystem_pthread.dylib             0x0000000180fa60fc thread_start + 8\n",
     "output_type": "error",
     "traceback": [
      "\u001b[0;31m---------------------------------------------------------------------------\u001b[0m",
      "\u001b[0;31mSessionNotCreatedException\u001b[0m                Traceback (most recent call last)",
      "Cell \u001b[0;32mIn[18], line 56\u001b[0m\n\u001b[1;32m     48\u001b[0m         \u001b[38;5;66;03m#self.captura_informacion()\u001b[39;00m\n\u001b[1;32m     49\u001b[0m         \u001b[38;5;66;03m#productos = self.extraer_datos_productos()\u001b[39;00m\n\u001b[1;32m     50\u001b[0m         \u001b[38;5;66;03m#self.guardar_datos(productos)\u001b[39;00m\n\u001b[0;32m   (...)\u001b[0m\n\u001b[1;32m     53\u001b[0m \n\u001b[1;32m     54\u001b[0m \u001b[38;5;66;03m# Ejecución principal\u001b[39;00m\n\u001b[1;32m     55\u001b[0m \u001b[38;5;28;01mif\u001b[39;00m \u001b[38;5;18m__name__\u001b[39m \u001b[38;5;241m==\u001b[39m \u001b[38;5;124m\"\u001b[39m\u001b[38;5;124m__main__\u001b[39m\u001b[38;5;124m\"\u001b[39m:\n\u001b[0;32m---> 56\u001b[0m     scraper \u001b[38;5;241m=\u001b[39m \u001b[43mMercadoLibreScraper\u001b[49m\u001b[43m(\u001b[49m\u001b[43m)\u001b[49m\n\u001b[1;32m     57\u001b[0m     scraper\u001b[38;5;241m.\u001b[39mejecutar()\n",
      "Cell \u001b[0;32mIn[18], line 10\u001b[0m, in \u001b[0;36mMercadoLibreScraper.__init__\u001b[0;34m(self)\u001b[0m\n\u001b[1;32m      9\u001b[0m \u001b[38;5;28;01mdef\u001b[39;00m \u001b[38;5;21m__init__\u001b[39m(\u001b[38;5;28mself\u001b[39m):\n\u001b[0;32m---> 10\u001b[0m     \u001b[38;5;28mself\u001b[39m\u001b[38;5;241m.\u001b[39mdriver \u001b[38;5;241m=\u001b[39m \u001b[38;5;28;43mself\u001b[39;49m\u001b[38;5;241;43m.\u001b[39;49m\u001b[43mconfigurar_driver\u001b[49m\u001b[43m(\u001b[49m\u001b[43m)\u001b[49m  \u001b[38;5;66;03m# Inicializa el driver de Selenium, que permitirá realizar el web scraping y las interacciones automatizadas con la página web.\u001b[39;00m\n\u001b[1;32m     11\u001b[0m     logging\u001b[38;5;241m.\u001b[39minfo(\u001b[38;5;124m\"\u001b[39m\u001b[38;5;124mDriver de Selenium configurado.\u001b[39m\u001b[38;5;124m\"\u001b[39m)\n\u001b[1;32m     13\u001b[0m     \u001b[38;5;66;03m# Crear el directorio de guardado si no existe\u001b[39;00m\n",
      "Cell \u001b[0;32mIn[18], line 23\u001b[0m, in \u001b[0;36mMercadoLibreScraper.configurar_driver\u001b[0;34m(self)\u001b[0m\n\u001b[1;32m     21\u001b[0m opts\u001b[38;5;241m.\u001b[39madd_argument(\u001b[38;5;124mf\u001b[39m\u001b[38;5;124m\"\u001b[39m\u001b[38;5;124muser-data-dir=\u001b[39m\u001b[38;5;132;01m{\u001b[39;00m\u001b[38;5;28mself\u001b[39m\u001b[38;5;241m.\u001b[39mPERFIL_CHROME\u001b[38;5;132;01m}\u001b[39;00m\u001b[38;5;124m\"\u001b[39m)\n\u001b[1;32m     22\u001b[0m \u001b[38;5;66;03m#opts.add_argument(\"--headless\") # Headless Mode: no abre el navegador. Mayor rapidez de procesos\u001b[39;00m\n\u001b[0;32m---> 23\u001b[0m \u001b[38;5;28;01mreturn\u001b[39;00m \u001b[43mwebdriver\u001b[49m\u001b[38;5;241;43m.\u001b[39;49m\u001b[43mChrome\u001b[49m\u001b[43m(\u001b[49m\u001b[43moptions\u001b[49m\u001b[38;5;241;43m=\u001b[39;49m\u001b[43mopts\u001b[49m\u001b[43m)\u001b[49m\n",
      "File \u001b[0;32m~/Documents/WebScraping/env/lib/python3.10/site-packages/selenium/webdriver/chrome/webdriver.py:45\u001b[0m, in \u001b[0;36mWebDriver.__init__\u001b[0;34m(self, options, service, keep_alive)\u001b[0m\n\u001b[1;32m     42\u001b[0m service \u001b[38;5;241m=\u001b[39m service \u001b[38;5;28;01mif\u001b[39;00m service \u001b[38;5;28;01melse\u001b[39;00m Service()\n\u001b[1;32m     43\u001b[0m options \u001b[38;5;241m=\u001b[39m options \u001b[38;5;28;01mif\u001b[39;00m options \u001b[38;5;28;01melse\u001b[39;00m Options()\n\u001b[0;32m---> 45\u001b[0m \u001b[38;5;28;43msuper\u001b[39;49m\u001b[43m(\u001b[49m\u001b[43m)\u001b[49m\u001b[38;5;241;43m.\u001b[39;49m\u001b[38;5;21;43m__init__\u001b[39;49m\u001b[43m(\u001b[49m\n\u001b[1;32m     46\u001b[0m \u001b[43m    \u001b[49m\u001b[43mbrowser_name\u001b[49m\u001b[38;5;241;43m=\u001b[39;49m\u001b[43mDesiredCapabilities\u001b[49m\u001b[38;5;241;43m.\u001b[39;49m\u001b[43mCHROME\u001b[49m\u001b[43m[\u001b[49m\u001b[38;5;124;43m\"\u001b[39;49m\u001b[38;5;124;43mbrowserName\u001b[39;49m\u001b[38;5;124;43m\"\u001b[39;49m\u001b[43m]\u001b[49m\u001b[43m,\u001b[49m\n\u001b[1;32m     47\u001b[0m \u001b[43m    \u001b[49m\u001b[43mvendor_prefix\u001b[49m\u001b[38;5;241;43m=\u001b[39;49m\u001b[38;5;124;43m\"\u001b[39;49m\u001b[38;5;124;43mgoog\u001b[39;49m\u001b[38;5;124;43m\"\u001b[39;49m\u001b[43m,\u001b[49m\n\u001b[1;32m     48\u001b[0m \u001b[43m    \u001b[49m\u001b[43moptions\u001b[49m\u001b[38;5;241;43m=\u001b[39;49m\u001b[43moptions\u001b[49m\u001b[43m,\u001b[49m\n\u001b[1;32m     49\u001b[0m \u001b[43m    \u001b[49m\u001b[43mservice\u001b[49m\u001b[38;5;241;43m=\u001b[39;49m\u001b[43mservice\u001b[49m\u001b[43m,\u001b[49m\n\u001b[1;32m     50\u001b[0m \u001b[43m    \u001b[49m\u001b[43mkeep_alive\u001b[49m\u001b[38;5;241;43m=\u001b[39;49m\u001b[43mkeep_alive\u001b[49m\u001b[43m,\u001b[49m\n\u001b[1;32m     51\u001b[0m \u001b[43m\u001b[49m\u001b[43m)\u001b[49m\n",
      "File \u001b[0;32m~/Documents/WebScraping/env/lib/python3.10/site-packages/selenium/webdriver/chromium/webdriver.py:66\u001b[0m, in \u001b[0;36mChromiumDriver.__init__\u001b[0;34m(self, browser_name, vendor_prefix, options, service, keep_alive)\u001b[0m\n\u001b[1;32m     57\u001b[0m executor \u001b[38;5;241m=\u001b[39m ChromiumRemoteConnection(\n\u001b[1;32m     58\u001b[0m     remote_server_addr\u001b[38;5;241m=\u001b[39m\u001b[38;5;28mself\u001b[39m\u001b[38;5;241m.\u001b[39mservice\u001b[38;5;241m.\u001b[39mservice_url,\n\u001b[1;32m     59\u001b[0m     browser_name\u001b[38;5;241m=\u001b[39mbrowser_name,\n\u001b[0;32m   (...)\u001b[0m\n\u001b[1;32m     62\u001b[0m     ignore_proxy\u001b[38;5;241m=\u001b[39moptions\u001b[38;5;241m.\u001b[39m_ignore_local_proxy,\n\u001b[1;32m     63\u001b[0m )\n\u001b[1;32m     65\u001b[0m \u001b[38;5;28;01mtry\u001b[39;00m:\n\u001b[0;32m---> 66\u001b[0m     \u001b[38;5;28;43msuper\u001b[39;49m\u001b[43m(\u001b[49m\u001b[43m)\u001b[49m\u001b[38;5;241;43m.\u001b[39;49m\u001b[38;5;21;43m__init__\u001b[39;49m\u001b[43m(\u001b[49m\u001b[43mcommand_executor\u001b[49m\u001b[38;5;241;43m=\u001b[39;49m\u001b[43mexecutor\u001b[49m\u001b[43m,\u001b[49m\u001b[43m \u001b[49m\u001b[43moptions\u001b[49m\u001b[38;5;241;43m=\u001b[39;49m\u001b[43moptions\u001b[49m\u001b[43m)\u001b[49m\n\u001b[1;32m     67\u001b[0m \u001b[38;5;28;01mexcept\u001b[39;00m \u001b[38;5;167;01mException\u001b[39;00m:\n\u001b[1;32m     68\u001b[0m     \u001b[38;5;28mself\u001b[39m\u001b[38;5;241m.\u001b[39mquit()\n",
      "File \u001b[0;32m~/Documents/WebScraping/env/lib/python3.10/site-packages/selenium/webdriver/remote/webdriver.py:212\u001b[0m, in \u001b[0;36mWebDriver.__init__\u001b[0;34m(self, command_executor, keep_alive, file_detector, options)\u001b[0m\n\u001b[1;32m    210\u001b[0m \u001b[38;5;28mself\u001b[39m\u001b[38;5;241m.\u001b[39m_authenticator_id \u001b[38;5;241m=\u001b[39m \u001b[38;5;28;01mNone\u001b[39;00m\n\u001b[1;32m    211\u001b[0m \u001b[38;5;28mself\u001b[39m\u001b[38;5;241m.\u001b[39mstart_client()\n\u001b[0;32m--> 212\u001b[0m \u001b[38;5;28;43mself\u001b[39;49m\u001b[38;5;241;43m.\u001b[39;49m\u001b[43mstart_session\u001b[49m\u001b[43m(\u001b[49m\u001b[43mcapabilities\u001b[49m\u001b[43m)\u001b[49m\n\u001b[1;32m    214\u001b[0m \u001b[38;5;28mself\u001b[39m\u001b[38;5;241m.\u001b[39m_websocket_connection \u001b[38;5;241m=\u001b[39m \u001b[38;5;28;01mNone\u001b[39;00m\n\u001b[1;32m    215\u001b[0m \u001b[38;5;28mself\u001b[39m\u001b[38;5;241m.\u001b[39m_script \u001b[38;5;241m=\u001b[39m \u001b[38;5;28;01mNone\u001b[39;00m\n",
      "File \u001b[0;32m~/Documents/WebScraping/env/lib/python3.10/site-packages/selenium/webdriver/remote/webdriver.py:299\u001b[0m, in \u001b[0;36mWebDriver.start_session\u001b[0;34m(self, capabilities)\u001b[0m\n\u001b[1;32m    292\u001b[0m \u001b[38;5;250m\u001b[39m\u001b[38;5;124;03m\"\"\"Creates a new session with the desired capabilities.\u001b[39;00m\n\u001b[1;32m    293\u001b[0m \n\u001b[1;32m    294\u001b[0m \u001b[38;5;124;03m:Args:\u001b[39;00m\n\u001b[1;32m    295\u001b[0m \u001b[38;5;124;03m - capabilities - a capabilities dict to start the session with.\u001b[39;00m\n\u001b[1;32m    296\u001b[0m \u001b[38;5;124;03m\"\"\"\u001b[39;00m\n\u001b[1;32m    298\u001b[0m caps \u001b[38;5;241m=\u001b[39m _create_caps(capabilities)\n\u001b[0;32m--> 299\u001b[0m response \u001b[38;5;241m=\u001b[39m \u001b[38;5;28;43mself\u001b[39;49m\u001b[38;5;241;43m.\u001b[39;49m\u001b[43mexecute\u001b[49m\u001b[43m(\u001b[49m\u001b[43mCommand\u001b[49m\u001b[38;5;241;43m.\u001b[39;49m\u001b[43mNEW_SESSION\u001b[49m\u001b[43m,\u001b[49m\u001b[43m \u001b[49m\u001b[43mcaps\u001b[49m\u001b[43m)\u001b[49m[\u001b[38;5;124m\"\u001b[39m\u001b[38;5;124mvalue\u001b[39m\u001b[38;5;124m\"\u001b[39m]\n\u001b[1;32m    300\u001b[0m \u001b[38;5;28mself\u001b[39m\u001b[38;5;241m.\u001b[39msession_id \u001b[38;5;241m=\u001b[39m response\u001b[38;5;241m.\u001b[39mget(\u001b[38;5;124m\"\u001b[39m\u001b[38;5;124msessionId\u001b[39m\u001b[38;5;124m\"\u001b[39m)\n\u001b[1;32m    301\u001b[0m \u001b[38;5;28mself\u001b[39m\u001b[38;5;241m.\u001b[39mcaps \u001b[38;5;241m=\u001b[39m response\u001b[38;5;241m.\u001b[39mget(\u001b[38;5;124m\"\u001b[39m\u001b[38;5;124mcapabilities\u001b[39m\u001b[38;5;124m\"\u001b[39m)\n",
      "File \u001b[0;32m~/Documents/WebScraping/env/lib/python3.10/site-packages/selenium/webdriver/remote/webdriver.py:354\u001b[0m, in \u001b[0;36mWebDriver.execute\u001b[0;34m(self, driver_command, params)\u001b[0m\n\u001b[1;32m    352\u001b[0m response \u001b[38;5;241m=\u001b[39m \u001b[38;5;28mself\u001b[39m\u001b[38;5;241m.\u001b[39mcommand_executor\u001b[38;5;241m.\u001b[39mexecute(driver_command, params)\n\u001b[1;32m    353\u001b[0m \u001b[38;5;28;01mif\u001b[39;00m response:\n\u001b[0;32m--> 354\u001b[0m     \u001b[38;5;28;43mself\u001b[39;49m\u001b[38;5;241;43m.\u001b[39;49m\u001b[43merror_handler\u001b[49m\u001b[38;5;241;43m.\u001b[39;49m\u001b[43mcheck_response\u001b[49m\u001b[43m(\u001b[49m\u001b[43mresponse\u001b[49m\u001b[43m)\u001b[49m\n\u001b[1;32m    355\u001b[0m     response[\u001b[38;5;124m\"\u001b[39m\u001b[38;5;124mvalue\u001b[39m\u001b[38;5;124m\"\u001b[39m] \u001b[38;5;241m=\u001b[39m \u001b[38;5;28mself\u001b[39m\u001b[38;5;241m.\u001b[39m_unwrap_value(response\u001b[38;5;241m.\u001b[39mget(\u001b[38;5;124m\"\u001b[39m\u001b[38;5;124mvalue\u001b[39m\u001b[38;5;124m\"\u001b[39m, \u001b[38;5;28;01mNone\u001b[39;00m))\n\u001b[1;32m    356\u001b[0m     \u001b[38;5;28;01mreturn\u001b[39;00m response\n",
      "File \u001b[0;32m~/Documents/WebScraping/env/lib/python3.10/site-packages/selenium/webdriver/remote/errorhandler.py:229\u001b[0m, in \u001b[0;36mErrorHandler.check_response\u001b[0;34m(self, response)\u001b[0m\n\u001b[1;32m    227\u001b[0m         alert_text \u001b[38;5;241m=\u001b[39m value[\u001b[38;5;124m\"\u001b[39m\u001b[38;5;124malert\u001b[39m\u001b[38;5;124m\"\u001b[39m]\u001b[38;5;241m.\u001b[39mget(\u001b[38;5;124m\"\u001b[39m\u001b[38;5;124mtext\u001b[39m\u001b[38;5;124m\"\u001b[39m)\n\u001b[1;32m    228\u001b[0m     \u001b[38;5;28;01mraise\u001b[39;00m exception_class(message, screen, stacktrace, alert_text)  \u001b[38;5;66;03m# type: ignore[call-arg]  # mypy is not smart enough here\u001b[39;00m\n\u001b[0;32m--> 229\u001b[0m \u001b[38;5;28;01mraise\u001b[39;00m exception_class(message, screen, stacktrace)\n",
      "\u001b[0;31mSessionNotCreatedException\u001b[0m: Message: session not created: Chrome failed to start: exited normally.\n  (session not created: DevToolsActivePort file doesn't exist)\n  (The process started from chrome location /Applications/Google Chrome.app/Contents/MacOS/Google Chrome is no longer running, so ChromeDriver is assuming that Chrome has crashed.)\nStacktrace:\n0   chromedriver                        0x00000001033e3648 cxxbridge1$str$ptr + 3645404\n1   chromedriver                        0x00000001033dbea8 cxxbridge1$str$ptr + 3614780\n2   chromedriver                        0x0000000102e48104 cxxbridge1$string$len + 88416\n3   chromedriver                        0x0000000102e76b44 cxxbridge1$string$len + 279456\n4   chromedriver                        0x0000000102e735c0 cxxbridge1$string$len + 265756\n5   chromedriver                        0x0000000102eb39f0 cxxbridge1$string$len + 528972\n6   chromedriver                        0x0000000102eb3334 cxxbridge1$string$len + 527248\n7   chromedriver                        0x0000000102e7ef54 cxxbridge1$string$len + 313264\n8   chromedriver                        0x0000000102e7fba4 cxxbridge1$string$len + 316416\n9   chromedriver                        0x00000001033ae1e8 cxxbridge1$str$ptr + 3427196\n10  chromedriver                        0x00000001033b152c cxxbridge1$str$ptr + 3440320\n11  chromedriver                        0x000000010339560c cxxbridge1$str$ptr + 3325856\n12  chromedriver                        0x00000001033b1df0 cxxbridge1$str$ptr + 3442564\n13  chromedriver                        0x0000000103386890 cxxbridge1$str$ptr + 3265060\n14  chromedriver                        0x00000001033cc898 cxxbridge1$str$ptr + 3551788\n15  chromedriver                        0x00000001033cca14 cxxbridge1$str$ptr + 3552168\n16  chromedriver                        0x00000001033dbb40 cxxbridge1$str$ptr + 3613908\n17  libsystem_pthread.dylib             0x0000000180fab2e4 _pthread_start + 136\n18  libsystem_pthread.dylib             0x0000000180fa60fc thread_start + 8\n"
     ]
    }
   ],
   "source": [
    "class MercadoLibreScraper:\n",
    "    # Constantes de configuración\n",
    "    PERFIL_CHROME = \"./3_Webs_Dinamicas/perfil_bot\"\n",
    "    USER_AGENT = \"Mozilla/5.0 (Macintosh; Intel Mac OS X 10_15_7) AppleWebKit/537.36 (KHTML, like Gecko) Chrome/127.0.0.0 Safari/537.36\"\n",
    "    URL = 'https://listado.mercadolibre.cl/bujias-mg3#D[A:bujias%20mg3]'\n",
    "    NOMBRE_ARCHIVO = \"Extraccion_ML_Selenium\"\n",
    "    RUTA_GUARDADO = \"3_Webs_Dinamicas/resultados_ML_Selenium\"\n",
    "\n",
    "    def __init__(self):\n",
    "        self.driver = self.configurar_driver()  # Inicializa el driver de Selenium, que permitirá realizar el web scraping y las interacciones automatizadas con la página web.\n",
    "        logging.info(\"Driver de Selenium configurado.\")\n",
    "\n",
    "        # Crear el directorio de guardado si no existe\n",
    "        os.makedirs(self.RUTA_GUARDADO, exist_ok=True)\n",
    "\n",
    "    def configurar_driver(self):\n",
    "        \"\"\"Configura el driver de Selenium con opciones de usuario y maximización de pantalla.\"\"\"\n",
    "        opts = Options()\n",
    "        opts.add_argument(f\"user-agent={self.USER_AGENT}\")\n",
    "        opts.add_argument(\"--start-maximized\") # Maximiza la ventana al abrir el navegador\n",
    "        opts.add_argument(f\"user-data-dir={self.PERFIL_CHROME}\")\n",
    "        #opts.add_argument(\"--headless\") # Headless Mode: no abre el navegador. Mayor rapidez de procesos\n",
    "        return webdriver.Chrome(options=opts)\n",
    "\n",
    "    def abrir_pagina(self):\n",
    "        \"\"\"Abre la página principal y espera unos segundos.\"\"\"\n",
    "        self.driver.get(self.URL)\n",
    "        sleep(random.uniform(5, 7))\n",
    "        logging.info(\"Página cargada.\")\n",
    "    \n",
    "    def cerrar_driver(self):\n",
    "        \"\"\"Cierra el driver de Selenium y finaliza la sesión.\"\"\"\n",
    "        if self.driver:\n",
    "            self.driver.quit()\n",
    "            logging.info(\"Driver de Selenium cerrado.\")\n",
    "    \n",
    "    def captura_informacion(self):\n",
    "        \"\"\"Ingresa a cada anuncio y extrae informacion\"\"\"\n",
    "        productos = self.driver.find_elements(By.XPATH, '//h2/a')\n",
    "        for i in productos:\n",
    "            link_producto = i.get_attribute('href')\n",
    "            print(link_producto)\n",
    "            break\n",
    "\n",
    "    def ejecutar(self):\n",
    "        \"\"\"Ejecuta el flujo completo de scraping en OLX.\"\"\"\n",
    "        self.abrir_pagina()\n",
    "        #self.captura_informacion()\n",
    "        #productos = self.extraer_datos_productos()\n",
    "        #self.guardar_datos(productos)\n",
    "        #logging.info(f\"Extracción completada. Total de productos: {len(productos)}\")\n",
    "        #self.cerrar_driver()\n",
    "\n",
    "# Ejecución principal\n",
    "if __name__ == \"__main__\":\n",
    "    scraper = MercadoLibreScraper()\n",
    "    scraper.ejecutar()\n",
    "\n"
   ]
  },
  {
   "cell_type": "code",
   "execution_count": null,
   "metadata": {},
   "outputs": [],
   "source": []
  }
 ],
 "metadata": {
  "kernelspec": {
   "display_name": "env",
   "language": "python",
   "name": "python3"
  },
  "language_info": {
   "codemirror_mode": {
    "name": "ipython",
    "version": 3
   },
   "file_extension": ".py",
   "mimetype": "text/x-python",
   "name": "python",
   "nbconvert_exporter": "python",
   "pygments_lexer": "ipython3",
   "version": "3.10.4"
  }
 },
 "nbformat": 4,
 "nbformat_minor": 2
}
